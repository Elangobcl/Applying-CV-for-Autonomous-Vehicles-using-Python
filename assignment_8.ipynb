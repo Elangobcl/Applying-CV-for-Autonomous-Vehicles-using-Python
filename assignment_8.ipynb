{
 "cells": [
  {
   "cell_type": "code",
   "execution_count": 1,
   "id": "1ee45b46-856a-454b-a342-6b6a36f9e0c0",
   "metadata": {},
   "outputs": [],
   "source": [
    "import cv2\n",
    "import numpy as np\n",
    "from matplotlib import pyplot as plt"
   ]
  },
  {
   "cell_type": "code",
   "execution_count": 2,
   "id": "aeb0bd2a-ba69-472f-ac8e-d16afb237af3",
   "metadata": {},
   "outputs": [],
   "source": [
    "def display_img(disp_img):\n",
    "    cv2.imshow('img_display',disp_img)\n",
    "    cv2.waitKey(0)"
   ]
  },
  {
   "cell_type": "code",
   "execution_count": 3,
   "id": "3b9d7001-9ffd-4d15-bbdb-d4ecf41fa99c",
   "metadata": {},
   "outputs": [],
   "source": [
    "def read_img(path):\n",
    "    img_matrix = cv2.imread(path)\n",
    "    display_img(img_matrix)\n",
    "    return img_matrix"
   ]
  },
  {
   "cell_type": "code",
   "execution_count": 4,
   "id": "d1b1522e-90d3-4294-ba9c-9cde5e13937e",
   "metadata": {},
   "outputs": [],
   "source": [
    "def img_cvt2gray(img):\n",
    "    gray_img = cv2.cvtColor(img,cv2.COLOR_BGR2GRAY)\n",
    "    return gray_img"
   ]
  },
  {
   "cell_type": "code",
   "execution_count": 5,
   "id": "9d8edc39-9756-44de-a99e-32aa2d1b7cc1",
   "metadata": {},
   "outputs": [],
   "source": [
    "def lk_opticalFlow(prev_img, curr_img, cornerPts):\n",
    "    Lk_pts, status, err = cv2.calcOpticalFlowPyrLK(prev_img, curr_img, cornerPts, None, winSize  = (15, 15), maxLevel = 2, \n",
    "                                       criteria = (cv2.TERM_CRITERIA_EPS | cv2.TERM_CRITERIA_COUNT, 10, 0.03))\n",
    "    return(Lk_pts, status, err)"
   ]
  },
  {
   "cell_type": "code",
   "execution_count": 6,
   "id": "e6a5a6a9-bd3f-4572-95e2-660a9c752b03",
   "metadata": {},
   "outputs": [],
   "source": [
    "def cornerPoints(grey):\n",
    "    # params for ShiTomasi corner detection\n",
    "    points = cv2.goodFeaturesToTrack(grey, mask = None ,maxCorners = 100, qualityLevel = 0.3, minDistance = 7, blockSize = 7)\n",
    "    return points"
   ]
  },
  {
   "cell_type": "code",
   "execution_count": 18,
   "id": "27124f47-cfc5-4d13-9616-336a92de128b",
   "metadata": {},
   "outputs": [
    {
     "name": "stdout",
     "output_type": "stream",
     "text": [
      "No frames grabbed!\n"
     ]
    }
   ],
   "source": [
    "cap = cv2.VideoCapture(\"assignment_8/traffic_assignment.mp4\")\n",
    "\n",
    "# Write video\n",
    "frame_width = int(cap.get(3))\n",
    "frame_height = int(cap.get(4)) \n",
    "size = (frame_width, frame_height)\n",
    "# save video in .avi format at 30fps\n",
    "result_opticalFlow = cv2.VideoWriter('assignment_8/Traffic_opticalFlow.avi', cv2.VideoWriter_fourcc(*'MJPG'), 30, size)\n",
    "# save video in .avi format at 30fps\n",
    "result_mask = cv2.VideoWriter('assignment_8/Traffic_mask.avi', cv2.VideoWriter_fourcc(*'MJPG'), 30, size)\n",
    "# Create some random colors\n",
    "color = np.random.randint(0, 255, (100, 3)) #100 array of dim ((1, 3 )- (R,G,B)) with random val between 0 and 255\n",
    "# Take first frame and find corners in it\n",
    "ret, old_frame = cap.read()\n",
    "old_gray = img_cvt2gray(old_frame)\n",
    "Prev_points = cornerPoints(old_gray) # detect initial location of corner points using ShiTomasi corner detection algorithm\n",
    "# Create a mask image for drawing purposes\n",
    "mask = np.zeros_like(old_frame)\n",
    "once=True\n",
    "while(1):\n",
    "    ret, frame = cap.read()\n",
    "    if not ret:\n",
    "        print('No frames grabbed!')\n",
    "        break\n",
    "    frame_gray = img_cvt2gray(frame)\n",
    "    \n",
    "    # Track detected corners using Lucas kanade sparse optical flow and returns next displacement of corner points using current position\n",
    "    (Current_points,status_Lk,Error_Lk) = lk_opticalFlow(old_gray,frame_gray,Prev_points)\n",
    "    # Select good points\n",
    "    if Current_points is not None:\n",
    "        Lk_good_new = Current_points[status_Lk==1] # converts 3d array to 2d\n",
    "        Lk_good_old = Prev_points[status_Lk==1]       \n",
    "    # draw the tracks\n",
    "    for i, (new, old) in enumerate(zip(Lk_good_new, Lk_good_old)):\n",
    "        a, b = new.ravel()\n",
    "        c, d = old.ravel()\n",
    "        mask = cv2.line(mask, (int(a), int(b)), (int(c), int(d)), color[i].tolist(), 2)\n",
    "        frame = cv2.circle(frame, (int(a), int(b)), 5, color[i].tolist(), -1)\n",
    "    \n",
    "    #merge mask and frmae\n",
    "    img_opticalFlow = cv2.add(frame, mask)\n",
    "    #save video\n",
    "    result_opticalFlow.write(img_opticalFlow)\n",
    "    result_mask.write(mask)\n",
    "    #display video frame\n",
    "    cv2.imshow('optical flow mask',mask)\n",
    "    cv2.imshow('optical flow',img_opticalFlow)\n",
    "    cv2.waitKey(1)\n",
    "    # Now update the previous frame and previous points\n",
    "    old_gray = frame_gray.copy()\n",
    "    Prev_points = Lk_good_new.reshape(-1, 1, 2) # reshape to (1,2) dim matrix of n matrix (-1 means, max matrix possible)\n",
    "cv2.destroyAllWindows()"
   ]
  },
  {
   "cell_type": "code",
   "execution_count": 12,
   "id": "4fce1612-6cc6-401c-87b5-9255f7112226",
   "metadata": {},
   "outputs": [
    {
     "data": {
      "text/plain": [
       "array([[203.88335, 196.24539]], dtype=float32)"
      ]
     },
     "execution_count": 12,
     "metadata": {},
     "output_type": "execute_result"
    }
   ],
   "source": [
    "Prev_points[1]"
   ]
  },
  {
   "cell_type": "code",
   "execution_count": null,
   "id": "f96fa24c-b9af-43e8-b8c2-59e85698d7f2",
   "metadata": {},
   "outputs": [],
   "source": []
  },
  {
   "cell_type": "code",
   "execution_count": null,
   "id": "dee4e98b-73e1-43be-a848-202f751132f3",
   "metadata": {},
   "outputs": [],
   "source": []
  }
 ],
 "metadata": {
  "kernelspec": {
   "display_name": "Python 3 (ipykernel)",
   "language": "python",
   "name": "python3"
  },
  "language_info": {
   "codemirror_mode": {
    "name": "ipython",
    "version": 3
   },
   "file_extension": ".py",
   "mimetype": "text/x-python",
   "name": "python",
   "nbconvert_exporter": "python",
   "pygments_lexer": "ipython3",
   "version": "3.9.1"
  }
 },
 "nbformat": 4,
 "nbformat_minor": 5
}
