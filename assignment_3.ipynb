{
 "cells": [
  {
   "cell_type": "code",
   "execution_count": 1,
   "id": "505ca247-336c-4b53-b0af-fe1b29de6bc9",
   "metadata": {},
   "outputs": [],
   "source": [
    "import numpy as np\n",
    "import cv2"
   ]
  },
  {
   "cell_type": "markdown",
   "id": "a324a2ee-2ae0-4b67-b702-cc52f251d91a",
   "metadata": {},
   "source": [
    "## Common CV methods"
   ]
  },
  {
   "cell_type": "code",
   "execution_count": 2,
   "id": "03fa0ced-58c2-4e39-9c9c-a36b12f86a38",
   "metadata": {},
   "outputs": [],
   "source": [
    "def display_image(img_read,title='img_display'):\n",
    "    cv2.imshow(title,img_read)\n",
    "    cv2.waitKey(0)    "
   ]
  },
  {
   "cell_type": "code",
   "execution_count": 3,
   "id": "00600b17-0c68-4ae2-a135-90da198f6822",
   "metadata": {},
   "outputs": [],
   "source": [
    "def read_img(img,chn=3):\n",
    "    img_read = cv2.imread(img,chn)\n",
    "    display_image(img_read)\n",
    "    return img_read"
   ]
  },
  {
   "cell_type": "code",
   "execution_count": 4,
   "id": "590ed7fa-fc09-4e76-96a0-48b5181ee72a",
   "metadata": {},
   "outputs": [],
   "source": [
    "def save_img(img,img_path='img.jpg'):\n",
    "    cv2.imwrite(img_path,img)"
   ]
  },
  {
   "cell_type": "code",
   "execution_count": 5,
   "id": "67cf684c-cf54-4bb5-a304-b3ca40991ea6",
   "metadata": {},
   "outputs": [],
   "source": [
    "input_img = read_img('assignment_3/Car.png',0)"
   ]
  },
  {
   "cell_type": "markdown",
   "id": "ab264712-daf3-4cf6-a31b-bdbfa12b1a06",
   "metadata": {},
   "source": [
    "## Canny Edge detecter step by step\n",
    "## Step 1 Smoothening of Image with Gaussian filter"
   ]
  },
  {
   "cell_type": "code",
   "execution_count": 52,
   "id": "e9335fbf-dd28-4235-9a91-a0f0f81ff063",
   "metadata": {},
   "outputs": [],
   "source": [
    "def gaussian_smooth(grey_img):\n",
    "    # Img Gaussian blur/smooth (Low Pass Filter)\n",
    "    G_Blur_img = cv2.GaussianBlur(grey_img,(3,3), 2)\n",
    "    return G_Blur_img"
   ]
  },
  {
   "cell_type": "code",
   "execution_count": 53,
   "id": "d407d1f8-e224-4d4d-ab6a-dbf52353cf5d",
   "metadata": {},
   "outputs": [],
   "source": [
    "G_smooth_img = gaussian_smooth(input_img)\n",
    "display_image(G_smooth_img,'Gaussian_smooth_img')\n",
    "save_img(G_smooth_img,'assignment_3/result/gaussian_smooth_img.jpg')"
   ]
  },
  {
   "cell_type": "markdown",
   "id": "353264bb-ca25-4592-b3f8-d64f7e11ec09",
   "metadata": {},
   "source": [
    "## Step 2 Sobel Filter"
   ]
  },
  {
   "cell_type": "code",
   "execution_count": 21,
   "id": "041c32a0-dff2-423c-9b4b-f1888f8bfe07",
   "metadata": {},
   "outputs": [],
   "source": [
    "def sobelFilter(G_Blur_img):\n",
    "    # Finding Img gradient x and y\n",
    "    vert_filter = np.array([[-1,0,1], [-2,0,2], [-1,0,1]]) # Sobel vertical filter\n",
    "    horz_filter = np.array([[-1,-2,-1], [0,0,0], [1,2,1]]) # Sobel Horizontal filter, transpose of vertical filter\n",
    "    sobel_grad_x = cv2.filter2D(G_Blur_img, -1, horz_filter)\n",
    "    sobel_grad_y = cv2.filter2D(G_Blur_img, -1, vert_filter)\n",
    "    # Magnitude of gradient\n",
    "    abs_grad_x = cv2.convertScaleAbs(sobel_grad_x) # gradient of img in x direction\n",
    "    abs_grad_y = cv2.convertScaleAbs(sobel_grad_y) # gradient of img in y direction\n",
    "    grad = cv2.addWeighted(abs_grad_x, 0.5, abs_grad_y, 0.5, 0) # Blends images, magnitude - sobel gradient magnitude\n",
    "    # Direction of the gradient\n",
    "    deg = np.rad2deg(np.arctan2(abs_grad_y,abs_grad_x))\n",
    "    return grad,deg"
   ]
  },
  {
   "cell_type": "code",
   "execution_count": 54,
   "id": "dfb66c10-6883-4b87-af6b-17cf7edc6ec0",
   "metadata": {},
   "outputs": [],
   "source": [
    "sobel_edges,sobel_angles = sobelFilter(G_smooth_img)\n",
    "display_image(sobel_edges,'sobel_edges')\n",
    "save_img(sobel_edges,'assignment_3/result/sobel_edges.jpg')"
   ]
  },
  {
   "cell_type": "markdown",
   "id": "9a9b6825-9ae5-4aa2-a81b-2d4851b5cbdb",
   "metadata": {},
   "source": [
    "## Step 3 Non-Maximun Suppression (NMS)"
   ]
  },
  {
   "cell_type": "code",
   "execution_count": 12,
   "id": "9316efd9-8318-44eb-83e4-3911e203d850",
   "metadata": {},
   "outputs": [],
   "source": [
    "def non_max_suppression(sobel_filt_img, angle):\n",
    "    suppressed_edges = np.zeros(sobel_filt_img.shape) # create unit matrix of matrix_dimension = (r,c) and dtype=np.float32\n",
    "    width,height = sobel_filt_img.shape\n",
    "    # loop through each pixel location and find max neighbour pixel intesity\n",
    "    for i in range(1,width-1):\n",
    "        for j in range(1,height-1):\n",
    "            #angle 0/180 horizontal neigbour pixel\n",
    "            if (0 <= angle[i,j] < 22.5) or (157.5 <= angle[i,j] <= 180):\n",
    "                max_neighbour_intensity = max(sobel_filt_img[i, j+1], sobel_filt_img[i, j-1])\n",
    "            #angle 45, diagonal neigbour pixel from top left to bottom right\n",
    "            elif (22.5 <= angle[i,j] < 67.5):\n",
    "                max_neighbour_intensity = max(sobel_filt_img[i+1, j+1], sobel_filt_img[i-1, j-1])\n",
    "            #angle 90 vertical neigbour pixel\n",
    "            elif (67.5 <= angle[i,j] < 112.5):\n",
    "                max_neighbour_intensity = max(sobel_filt_img[i+1, j], sobel_filt_img[i-1, j])\n",
    "            #angle 135 (112.5 <= angle[i,j] < 157.5), diagonal neigbour pixel Top right to bottom left\n",
    "            else :\n",
    "                max_neighbour_intensity = max(sobel_filt_img[i-1, j+1], sobel_filt_img[i+1, j-1])\n",
    "            \n",
    "            # pixel intensity at location (i,j) or its neighbours is greater\n",
    "            if (sobel_filt_img[i,j] >= max_neighbour_intensity):\n",
    "                suppressed_edges[i,j] = sobel_filt_img[i,j]\n",
    "    return suppressed_edges"
   ]
  },
  {
   "cell_type": "code",
   "execution_count": 69,
   "id": "8b5c7f47-dd8a-448b-bcfd-177e577fb6ae",
   "metadata": {},
   "outputs": [],
   "source": [
    "nms_edges = non_max_suppression(sobel_edges,sobel_angles)\n",
    "display_image(nms_edges,'nms_img')\n",
    "save_img(nms_edges,'assignment_3/result/nms_edges.jpg')"
   ]
  },
  {
   "cell_type": "markdown",
   "id": "10f7277c-8f7a-41c3-9bf6-b27d4399f247",
   "metadata": {},
   "source": [
    "## Step 4 Double Thresholding"
   ]
  },
  {
   "cell_type": "code",
   "execution_count": 40,
   "id": "85879074-d372-4a95-b165-48ecf59f3c48",
   "metadata": {},
   "outputs": [],
   "source": [
    "def doubleThresholding(suppressed_edges):\n",
    "    # thresold value\n",
    "    low = 45\n",
    "    high = 120\n",
    "    \n",
    "    # strong and weak pixel value\n",
    "    strong = 250\n",
    "    weak = 60\n",
    "    #result matrix\n",
    "    suppressed_dim = suppressed_edges.shape\n",
    "    result_matrix = np.zeros(suppressed_dim)\n",
    "    # location x,y of strong and weak pixels in the image suppressed_edges\n",
    "    strong_x, strong_y = np.where(suppressed_edges>=high)\n",
    "    weak_x, weak_y = np.where((suppressed_edges>low) & (suppressed_edges<high))\n",
    "    \n",
    "    result_matrix[strong_x, strong_y] = strong\n",
    "    result_matrix[weak_x, weak_y] = weak\n",
    "    \n",
    "    return result_matrix"
   ]
  },
  {
   "cell_type": "code",
   "execution_count": 70,
   "id": "1ea461df-5760-44d7-b9b6-c6e0ff81b2bb",
   "metadata": {},
   "outputs": [],
   "source": [
    "doubleThreshold_img=doubleThresholding(nms_edges)\n",
    "display_image(doubleThreshold_img,'doubleThreshold_car_edges')\n",
    "save_img(doubleThreshold_img,'assignment_3/result/doubleThreshold_img.jpg')"
   ]
  },
  {
   "cell_type": "markdown",
   "id": "04228477-0447-4a36-bff0-9840ed6aec0a",
   "metadata": {},
   "source": [
    "## Step 5 Edge Tracking"
   ]
  },
  {
   "cell_type": "code",
   "execution_count": 57,
   "id": "5a2c7768-ffe7-4dfa-a4e3-67728ff4fe01",
   "metadata": {},
   "outputs": [],
   "source": [
    "#loop through the img and check if any neighbour of weak pixel is strong\n",
    "def hysteresis_edgeTracking(img, weak, strong=255):\n",
    "    height, width = img.shape  \n",
    "    for i in range(1, height-1):\n",
    "        for j in range(1, width-1):\n",
    "            if (img[i,j] == weak): # check for strong pixels in the weak pixel neighbour\n",
    "                try:\n",
    "                    if ((img[i+1, j-1] == strong) or (img[i+1, j] == strong) or (img[i+1, j+1] == strong)\n",
    "                        or (img[i, j-1] == strong) or (img[i, j+1] == strong)\n",
    "                        or (img[i-1, j-1] == strong) or (img[i-1, j] == strong) or (img[i-1, j+1] == strong)):\n",
    "                        img[i, j] = strong\n",
    "                    else:\n",
    "                        img[i, j] = 0\n",
    "                except IndexError as e:\n",
    "                    pass\n",
    "    return img"
   ]
  },
  {
   "cell_type": "code",
   "execution_count": 74,
   "id": "d3eece7a-9a55-4eb2-946b-8c743d012651",
   "metadata": {},
   "outputs": [],
   "source": [
    "hysteresis_img = hysteresis_edgeTracking(doubleThreshold_img,60,250)\n",
    "display_image(hysteresis_img,'hysteresis_car_edges')\n",
    "save_img(hysteresis_img,'assignment_3/result/hysteresis_img.jpg')"
   ]
  },
  {
   "cell_type": "code",
   "execution_count": null,
   "id": "1c38af6a-bb4e-435c-aab3-253d3cfe7301",
   "metadata": {},
   "outputs": [],
   "source": []
  }
 ],
 "metadata": {
  "kernelspec": {
   "display_name": "Python 3 (ipykernel)",
   "language": "python",
   "name": "python3"
  },
  "language_info": {
   "codemirror_mode": {
    "name": "ipython",
    "version": 3
   },
   "file_extension": ".py",
   "mimetype": "text/x-python",
   "name": "python",
   "nbconvert_exporter": "python",
   "pygments_lexer": "ipython3",
   "version": "3.9.1"
  }
 },
 "nbformat": 4,
 "nbformat_minor": 5
}
