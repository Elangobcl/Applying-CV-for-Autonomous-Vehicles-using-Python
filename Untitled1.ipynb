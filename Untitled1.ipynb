{
 "cells": [
  {
   "cell_type": "code",
   "execution_count": 6,
   "id": "181b58f8",
   "metadata": {},
   "outputs": [],
   "source": [
    "import cv2\n",
    "import numpy as np"
   ]
  },
  {
   "cell_type": "code",
   "execution_count": 8,
   "id": "529f4fbd-e0b1-4aa7-b0d0-d44266b85854",
   "metadata": {},
   "outputs": [
    {
     "data": {
      "text/plain": [
       "array([[  1.26666667,   0.6       , -83.33333333],\n",
       "       [ -0.33333333,   1.        ,  66.66666667]])"
      ]
     },
     "execution_count": 8,
     "metadata": {},
     "output_type": "execute_result"
    }
   ],
   "source": [
    "pts1 = np.float32([[50, 50], [200, 50], [50, 200]])\n",
    "pts2 = np.float32([[10, 100], [200, 50], [100, 250]])\n",
    "cv2.getAffineTransform(pts1, pts2)"
   ]
  },
  {
   "cell_type": "code",
   "execution_count": 16,
   "id": "f8c87d92",
   "metadata": {},
   "outputs": [
    {
     "name": "stdout",
     "output_type": "stream",
     "text": [
      "(743, 1118, 3)\n",
      "[[0.43122356 0.73559013 0.23753573 ... 0.55025121 0.14444585 0.42167143]\n",
      " [0.60129688 0.29009167 0.76531239 ... 0.99606877 0.53845652 0.9790755 ]\n",
      " [0.23097198 0.33857053 0.15020257 ... 0.03674099 0.67998638 0.14413241]\n",
      " ...\n",
      " [0.41419542 0.20981224 0.58292466 ... 0.70293788 0.60450216 0.20795201]\n",
      " [0.069325   0.23878676 0.13894934 ... 0.95685158 0.2177375  0.93329343]\n",
      " [0.10244413 0.16813785 0.61087398 ... 0.02442895 0.70722678 0.36091721]]\n",
      "[[[ 87 109 139]\n",
      "  [255 255 255]\n",
      "  [ 91 112 143]\n",
      "  ...\n",
      "  [186 193 204]\n",
      "  [188 197 204]\n",
      "  [196 205 212]]\n",
      "\n",
      " [[ 86 107 138]\n",
      "  [ 87 109 139]\n",
      "  [255 255 255]\n",
      "  ...\n",
      "  [255 255 255]\n",
      "  [186 194 202]\n",
      "  [255 255 255]]\n",
      "\n",
      " [[ 89 111 142]\n",
      "  [ 88 110 140]\n",
      "  [ 86 110 140]\n",
      "  ...\n",
      "  [192 199 207]\n",
      "  [255 255 255]\n",
      "  [196 203 209]]\n",
      "\n",
      " ...\n",
      "\n",
      " [[ 42  42  42]\n",
      "  [ 42  42  42]\n",
      "  [ 42  42  42]\n",
      "  ...\n",
      "  [255 255 255]\n",
      "  [ 74  80  84]\n",
      "  [ 67  73  77]]\n",
      "\n",
      " [[ 41  41  41]\n",
      "  [ 41  41  41]\n",
      "  [ 41  41  41]\n",
      "  ...\n",
      "  [255 255 255]\n",
      "  [ 74  80  84]\n",
      "  [255 255 255]]\n",
      "\n",
      " [[ 54  54  54]\n",
      "  [ 54  54  54]\n",
      "  [ 54  54  54]\n",
      "  ...\n",
      "  [ 81  86  92]\n",
      "  [255 255 255]\n",
      "  [ 67  73  77]]]\n"
     ]
    },
    {
     "data": {
      "text/plain": [
       "13"
      ]
     },
     "execution_count": 16,
     "metadata": {},
     "output_type": "execute_result"
    }
   ],
   "source": [
    "def makeNoiseImg(img):\n",
    "    imgCpy = img.copy()\n",
    "    print(imgCpy.shape)\n",
    "    if(imgCpy.shape == 2):\n",
    "        black = 0\n",
    "        white = 255\n",
    "    else:\n",
    "        black = np.array([0,0,0], dtype='uint8')\n",
    "        white = np.array([255,255,255], dtype='uint8')\n",
    "    randomThreshold = np.random.random(imgCpy.shape[:2])\n",
    "    print(randomThreshold)\n",
    "    imgCpy[randomThreshold <(randomThreshold/2)]=black\n",
    "    imgCpy[randomThreshold > 1-(randomThreshold/2)]=white\n",
    "    print(imgCpy)\n",
    "    return imgCpy\n",
    "\n",
    "img = cv2.imread('car.jpg')\n",
    "noiseImg = makeNoiseImg(img)\n",
    "cv2.imshow(\"salt&pepper noise\",np.hstack((img, noiseImg)))\n",
    "cv2.waitKey(0)"
   ]
  },
  {
   "cell_type": "code",
   "execution_count": null,
   "id": "5f382daa",
   "metadata": {},
   "outputs": [],
   "source": []
  }
 ],
 "metadata": {
  "kernelspec": {
   "display_name": "Python 3 (ipykernel)",
   "language": "python",
   "name": "python3"
  },
  "language_info": {
   "codemirror_mode": {
    "name": "ipython",
    "version": 3
   },
   "file_extension": ".py",
   "mimetype": "text/x-python",
   "name": "python",
   "nbconvert_exporter": "python",
   "pygments_lexer": "ipython3",
   "version": "3.9.1"
  }
 },
 "nbformat": 4,
 "nbformat_minor": 5
}
