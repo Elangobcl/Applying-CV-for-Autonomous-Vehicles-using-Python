{
 "cells": [
  {
   "cell_type": "code",
   "execution_count": 1,
   "id": "9507618d-9ebc-4f73-aa14-a9cf3fb64a45",
   "metadata": {},
   "outputs": [],
   "source": [
    "import numpy as np"
   ]
  },
  {
   "cell_type": "markdown",
   "id": "2378d5ef-b909-435f-843d-053a0315b763",
   "metadata": {},
   "source": [
    "## Replace list of index x,y of np array with specific value\n",
    "- numpy array can handle list of indices\n",
    "- array elements can be modified with lambda functions in the index"
   ]
  },
  {
   "cell_type": "code",
   "execution_count": 2,
   "id": "e4dac33e-acaa-4695-93d7-c46ea8a3626d",
   "metadata": {},
   "outputs": [
    {
     "data": {
      "text/plain": [
       "array([[-1,  0,  1],\n",
       "       [-2,  0,  2],\n",
       "       [-1,  0,  1]])"
      ]
     },
     "execution_count": 2,
     "metadata": {},
     "output_type": "execute_result"
    }
   ],
   "source": [
    "ar_1 = np.array([[-1,0,1], [-2,0,2], [-1,0,1]])\n",
    "ar_1"
   ]
  },
  {
   "cell_type": "code",
   "execution_count": 4,
   "id": "fc1349b3-06b8-42ac-970c-c6bff66ed6e9",
   "metadata": {},
   "outputs": [],
   "source": [
    "ar1_x_ind = [0,1,2]\n",
    "ar1_y_ind = [0,1,2]"
   ]
  },
  {
   "cell_type": "code",
   "execution_count": 5,
   "id": "79446fda-3804-4a67-b253-25757d7897cc",
   "metadata": {},
   "outputs": [
    {
     "data": {
      "text/plain": [
       "array([[ 1,  0,  1],\n",
       "       [-2,  1,  2],\n",
       "       [-1,  0,  1]])"
      ]
     },
     "execution_count": 5,
     "metadata": {},
     "output_type": "execute_result"
    }
   ],
   "source": [
    "# replace with index list value with 1\n",
    "ar_1[ar1_x_ind,ar1_y_ind] = 1\n",
    "ar_1"
   ]
  },
  {
   "cell_type": "code",
   "execution_count": 7,
   "id": "d5611e77-428c-4081-ad5a-1e09ae81972d",
   "metadata": {},
   "outputs": [
    {
     "data": {
      "text/plain": [
       "array([[1, 0, 1],\n",
       "       [0, 1, 0],\n",
       "       [0, 0, 1]])"
      ]
     },
     "execution_count": 7,
     "metadata": {},
     "output_type": "execute_result"
    }
   ],
   "source": [
    "ar_1[ar_1 != 1] = 0\n",
    "ar_1"
   ]
  },
  {
   "cell_type": "code",
   "execution_count": null,
   "id": "579c08ce-560f-41aa-93a4-f1ff95b47eb6",
   "metadata": {},
   "outputs": [],
   "source": []
  }
 ],
 "metadata": {
  "kernelspec": {
   "display_name": "Python 3 (ipykernel)",
   "language": "python",
   "name": "python3"
  },
  "language_info": {
   "codemirror_mode": {
    "name": "ipython",
    "version": 3
   },
   "file_extension": ".py",
   "mimetype": "text/x-python",
   "name": "python",
   "nbconvert_exporter": "python",
   "pygments_lexer": "ipython3",
   "version": "3.9.1"
  }
 },
 "nbformat": 4,
 "nbformat_minor": 5
}
