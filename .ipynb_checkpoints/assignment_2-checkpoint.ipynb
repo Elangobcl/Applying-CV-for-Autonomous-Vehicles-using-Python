{
 "cells": [
  {
   "cell_type": "code",
   "execution_count": 1,
   "id": "26110263-1875-461c-807d-c6b2cfbcaedb",
   "metadata": {},
   "outputs": [],
   "source": [
    "import numpy as np\n",
    "import cv2"
   ]
  },
  {
   "cell_type": "code",
   "execution_count": 2,
   "id": "928f74eb-c26d-4bab-813e-7d3444bcc4c3",
   "metadata": {},
   "outputs": [],
   "source": [
    "def display_img(disp_img, title ='img_display'):\n",
    "    cv2.imshow(title,disp_img)\n",
    "    cv2.waitKey(0)"
   ]
  },
  {
   "cell_type": "code",
   "execution_count": 3,
   "id": "d5d3c998-332e-4d7a-915a-b1c89088fb36",
   "metadata": {},
   "outputs": [],
   "source": [
    "def read_img(path,chn=3):\n",
    "    img_matrix = cv2.imread(path,chn)\n",
    "    display_img(img_matrix)\n",
    "    return img_matrix"
   ]
  },
  {
   "cell_type": "code",
   "execution_count": 16,
   "id": "45f115f0-034a-469f-8215-00a98e8af674",
   "metadata": {},
   "outputs": [],
   "source": [
    "def gaussian_smooth(grey_img):\n",
    "    # Img Gaussian blur/smooth (Low Pass Filter)\n",
    "    G_Blur_img = cv2.GaussianBlur(grey_img,(5,5), 5)\n",
    "    return G_Blur_img"
   ]
  },
  {
   "cell_type": "code",
   "execution_count": 5,
   "id": "1ba49920-be70-4e8b-a38b-9451398cbf44",
   "metadata": {},
   "outputs": [],
   "source": [
    "## perwitt Filter\n",
    "def perwittFilter(grey_img,gaussian_img):\n",
    "    # Finding Img gradient x and y\n",
    "    vert_filter = np.array([[-1,0,1], [-1,0,1], [-1,0,1]]) # perWitt vertical filter\n",
    "    horz_filter = np.array([[-1,-1,-1], [0,0,0], [1,1,1]]) # perWitt Horizontal filter, transpose of vertical filter\n",
    "    perWitt_grad_x = cv2.filter2D(gaussian_img, -1, horz_filter)\n",
    "    perWitt_grad_y = cv2.filter2D(gaussian_img, -1, vert_filter)\n",
    "    # Magnitude of gradient\n",
    "    abs_grad_x = cv2.convertScaleAbs(perWitt_grad_x) # gradient of img in x direction\n",
    "    abs_grad_y = cv2.convertScaleAbs(perWitt_grad_y) # gradient of img in y direction\n",
    "    grad = cv2.addWeighted(abs_grad_x, 0.5, abs_grad_y, 0.5, 0) # Blends images, magnitude - sobel gradient magnitude\n",
    "    #deg = np.rad2deg(np.arctan2(abs_grad_y,abs_grad_x))\n",
    "    return grad"
   ]
  },
  {
   "cell_type": "code",
   "execution_count": 6,
   "id": "7960d98e-f625-42f6-8a01-d608078adf4c",
   "metadata": {},
   "outputs": [],
   "source": [
    "input_img = read_img('assignment_2/Challenge_2.PNG',0) #convert to greyscale image\n",
    "G_smooth_img = gaussian_smooth (input_img)"
   ]
  },
  {
   "cell_type": "code",
   "execution_count": 17,
   "id": "373a50a1-a90e-440d-88fa-c4cae5d9b5b9",
   "metadata": {},
   "outputs": [],
   "source": [
    "perwitt_img = perwittFilter(input_img,G_smooth_img)\n",
    "display_img(perwitt_img,'perwitt_edge_img')"
   ]
  },
  {
   "cell_type": "code",
   "execution_count": 13,
   "id": "d67e3b1b-fc62-4a52-8746-64de842f5df5",
   "metadata": {},
   "outputs": [],
   "source": [
    "laplace_img = cv2.Laplacian(input_img, -1,ksize=3)\n",
    "display_img(laplace_img,'laplace_edge_img')"
   ]
  }
 ],
 "metadata": {
  "kernelspec": {
   "display_name": "Python 3 (ipykernel)",
   "language": "python",
   "name": "python3"
  },
  "language_info": {
   "codemirror_mode": {
    "name": "ipython",
    "version": 3
   },
   "file_extension": ".py",
   "mimetype": "text/x-python",
   "name": "python",
   "nbconvert_exporter": "python",
   "pygments_lexer": "ipython3",
   "version": "3.9.1"
  }
 },
 "nbformat": 4,
 "nbformat_minor": 5
}
