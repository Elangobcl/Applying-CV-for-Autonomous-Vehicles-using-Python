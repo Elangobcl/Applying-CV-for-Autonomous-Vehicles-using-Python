{
 "cells": [
  {
   "cell_type": "code",
   "execution_count": 4,
   "id": "9507618d-9ebc-4f73-aa14-a9cf3fb64a45",
   "metadata": {},
   "outputs": [],
   "source": [
    "import numpy as np"
   ]
  },
  {
   "cell_type": "markdown",
   "id": "2378d5ef-b909-435f-843d-053a0315b763",
   "metadata": {
    "jp-MarkdownHeadingCollapsed": true,
    "tags": []
   },
   "source": [
    "## Replace list of index x,y of np array with specific value\n",
    "- numpy array can handle list of indices\n",
    "- array elements can be modified with lambda functions in the index"
   ]
  },
  {
   "cell_type": "code",
   "execution_count": 2,
   "id": "e4dac33e-acaa-4695-93d7-c46ea8a3626d",
   "metadata": {},
   "outputs": [
    {
     "data": {
      "text/plain": [
       "array([[-1,  0,  1],\n",
       "       [-2,  0,  2],\n",
       "       [-1,  0,  1]])"
      ]
     },
     "execution_count": 2,
     "metadata": {},
     "output_type": "execute_result"
    }
   ],
   "source": [
    "ar_1 = np.array([[-1,0,1], [-2,0,2], [-1,0,1]])\n",
    "ar_1"
   ]
  },
  {
   "cell_type": "code",
   "execution_count": 4,
   "id": "fc1349b3-06b8-42ac-970c-c6bff66ed6e9",
   "metadata": {},
   "outputs": [],
   "source": [
    "ar1_x_ind = [0,1,2]\n",
    "ar1_y_ind = [0,1,2]"
   ]
  },
  {
   "cell_type": "code",
   "execution_count": 5,
   "id": "79446fda-3804-4a67-b253-25757d7897cc",
   "metadata": {},
   "outputs": [
    {
     "data": {
      "text/plain": [
       "array([[ 1,  0,  1],\n",
       "       [-2,  1,  2],\n",
       "       [-1,  0,  1]])"
      ]
     },
     "execution_count": 5,
     "metadata": {},
     "output_type": "execute_result"
    }
   ],
   "source": [
    "# replace with index list value with 1\n",
    "ar_1[ar1_x_ind,ar1_y_ind] = 1\n",
    "ar_1"
   ]
  },
  {
   "cell_type": "code",
   "execution_count": 7,
   "id": "d5611e77-428c-4081-ad5a-1e09ae81972d",
   "metadata": {},
   "outputs": [
    {
     "data": {
      "text/plain": [
       "array([[1, 0, 1],\n",
       "       [0, 1, 0],\n",
       "       [0, 0, 1]])"
      ]
     },
     "execution_count": 7,
     "metadata": {},
     "output_type": "execute_result"
    }
   ],
   "source": [
    "ar_1[ar_1 != 1] = 0\n",
    "ar_1"
   ]
  },
  {
   "cell_type": "markdown",
   "id": "bab732a3-8569-48d6-84bf-4a9785271517",
   "metadata": {},
   "source": [
    " ## Others"
   ]
  },
  {
   "cell_type": "code",
   "execution_count": 6,
   "id": "424efe99-d214-4283-90e9-2a1c88cfdb60",
   "metadata": {},
   "outputs": [
    {
     "data": {
      "text/plain": [
       "array([90.        , 73.33333333, 71.66666667])"
      ]
     },
     "execution_count": 6,
     "metadata": {},
     "output_type": "execute_result"
    }
   ],
   "source": [
    "scores = np.array([(90,70,100),(100,90,45),(80,60,70)])\n",
    "mean_scores = np.mean(scores,axis=0)\n",
    "mean_scores"
   ]
  },
  {
   "cell_type": "code",
   "execution_count": 7,
   "id": "bc659088-e76f-4db1-816b-4f3887c314d7",
   "metadata": {},
   "outputs": [
    {
     "data": {
      "text/plain": [
       "array([[  0.        ,  -3.33333333,  28.33333333],\n",
       "       [ 10.        ,  16.66666667, -26.66666667],\n",
       "       [-10.        , -13.33333333,  -1.66666667]])"
      ]
     },
     "execution_count": 7,
     "metadata": {},
     "output_type": "execute_result"
    }
   ],
   "source": [
    "normalised_scores = scores - mean_scores\n",
    "normalised_scores"
   ]
  },
  {
   "cell_type": "code",
   "execution_count": 16,
   "id": "cd98e3ae-228a-46d1-aeb7-db78d6a90dbf",
   "metadata": {},
   "outputs": [
    {
     "name": "stdout",
     "output_type": "stream",
     "text": [
      "Eigen_value :  [9.01760331e+02 1.50389412e-14 1.89906336e+02]\n",
      "Eigen_vector :  [[-0.2130403  -0.80221712  0.55772889]\n",
      " [-0.39344552  0.59294309  0.70258033]\n",
      " [ 0.89432346  0.06975801  0.4419495 ]]\n"
     ]
    }
   ],
   "source": [
    "corr_scores = np.cov(normalised_scores.T)\n",
    "Eigen_value, Eigen_vector = np.linalg.eig(corr_scores)\n",
    "print (\"Eigen_value : \", Eigen_value)\n",
    "print (\"Eigen_vector : \", Eigen_vector)"
   ]
  },
  {
   "cell_type": "code",
   "execution_count": 18,
   "id": "79a3a627-3dfb-4ec0-a705-9f83c69755a9",
   "metadata": {},
   "outputs": [
    {
     "data": {
      "text/plain": [
       "array([[ 2.66506498e+01, -3.25364539e+01,  5.88580411e+00],\n",
       "       [-1.16773352e-15,  9.27812443e-16,  7.82507298e-15],\n",
       "       [ 1.01799682e+01,  5.50164096e+00, -1.56816091e+01]])"
      ]
     },
     "execution_count": 18,
     "metadata": {},
     "output_type": "execute_result"
    }
   ],
   "source": [
    "projeced_matrix = Eigen_vector.T.dot(normalised_scores.T)\n",
    "projeced_matrix.T"
   ]
  },
  {
   "cell_type": "code",
   "execution_count": 19,
   "id": "3afa2ccf-59b0-4ad5-b469-6128bbdb0a3c",
   "metadata": {},
   "outputs": [
    {
     "data": {
      "text/plain": [
       "array([[-12.8776898 , -17.7716038 ,   2.96519956],\n",
       "       [  5.2318508 ,  11.62633511, -38.65756423],\n",
       "       [  2.60630823,   3.95791575,  -3.66973923]])"
      ]
     },
     "execution_count": 19,
     "metadata": {},
     "output_type": "execute_result"
    }
   ],
   "source": [
    "Eigen_vector.T.dot(normalised_scores)"
   ]
  },
  {
   "cell_type": "code",
   "execution_count": 16,
   "id": "1ea11448-9bdc-46cd-8695-6f9f3ede0c1d",
   "metadata": {},
   "outputs": [
    {
     "data": {
      "text/plain": [
       "array([1, 1, 1, 1])"
      ]
     },
     "execution_count": 16,
     "metadata": {},
     "output_type": "execute_result"
    }
   ],
   "source": [
    "x = np.array([(1),(1),(1),(1)])\n",
    "x"
   ]
  },
  {
   "cell_type": "code",
   "execution_count": 33,
   "id": "8e1e72ed-3da1-41f9-a6ba-b9e55fd21662",
   "metadata": {},
   "outputs": [
    {
     "data": {
      "text/plain": [
       "array([[1],\n",
       "       [1],\n",
       "       [1],\n",
       "       [1]])"
      ]
     },
     "execution_count": 33,
     "metadata": {},
     "output_type": "execute_result"
    }
   ],
   "source": [
    "x_arr = x.reshape(4,1)\n",
    "x_arr"
   ]
  },
  {
   "cell_type": "code",
   "execution_count": 31,
   "id": "a2218db6-8e20-4aa6-82d4-c78757e104a4",
   "metadata": {},
   "outputs": [
    {
     "data": {
      "text/plain": [
       "array([[[1, 2]],\n",
       "\n",
       "       [[3, 4]],\n",
       "\n",
       "       [[5, 6]],\n",
       "\n",
       "       [[7, 8]]])"
      ]
     },
     "execution_count": 31,
     "metadata": {},
     "output_type": "execute_result"
    }
   ],
   "source": [
    "y = np.array([1,2,3,4,5,6,7,8])\n",
    "y_arr = y.reshape(4,1,2)\n",
    "y_arr"
   ]
  },
  {
   "cell_type": "code",
   "execution_count": 36,
   "id": "a3ee44e4-66d4-464b-84d8-ed63ceb72d55",
   "metadata": {},
   "outputs": [
    {
     "data": {
      "text/plain": [
       "array([[1, 2],\n",
       "       [3, 4],\n",
       "       [5, 6],\n",
       "       [7, 8]])"
      ]
     },
     "execution_count": 36,
     "metadata": {},
     "output_type": "execute_result"
    }
   ],
   "source": [
    "y_arr[x_arr == 1]"
   ]
  },
  {
   "cell_type": "code",
   "execution_count": 32,
   "id": "81c36e81-d63e-487f-bd5a-87bcb7026706",
   "metadata": {},
   "outputs": [
    {
     "data": {
      "text/plain": [
       "array([[ True],\n",
       "       [ True],\n",
       "       [ True],\n",
       "       [ True]])"
      ]
     },
     "execution_count": 32,
     "metadata": {},
     "output_type": "execute_result"
    }
   ],
   "source": [
    "x_arr == 1"
   ]
  },
  {
   "cell_type": "code",
   "execution_count": 38,
   "id": "1f1edaeb-79b6-4811-a34b-10d4561f2390",
   "metadata": {},
   "outputs": [
    {
     "data": {
      "text/plain": [
       "(2, 2, 3)"
      ]
     },
     "execution_count": 38,
     "metadata": {},
     "output_type": "execute_result"
    }
   ],
   "source": [
    "b = np.array([[[1, 2, 3],[4, 5, 6]],\n",
    "            [[7, 8, 9],[10, 11, 12]]])\n",
    "b.shape"
   ]
  },
  {
   "cell_type": "code",
   "execution_count": 46,
   "id": "f4ad7a2e-1fe3-4524-8323-000e55395ced",
   "metadata": {},
   "outputs": [
    {
     "data": {
      "text/plain": [
       "array([10,  9, 20])"
      ]
     },
     "execution_count": 46,
     "metadata": {},
     "output_type": "execute_result"
    }
   ],
   "source": [
    "a1 = np.array([[5, 5],[4, 5],[16, 4]])\n",
    "sumrow = a1.sum(-1)\n",
    "sumrow"
   ]
  },
  {
   "cell_type": "code",
   "execution_count": 63,
   "id": "682365b7-0320-4e52-bd28-50c999cab877",
   "metadata": {},
   "outputs": [
    {
     "data": {
      "text/plain": [
       "array([[1, 2]])"
      ]
     },
     "execution_count": 63,
     "metadata": {},
     "output_type": "execute_result"
    }
   ],
   "source": [
    "x = np.array([1,2]).reshape(1,2)\n",
    "a,b = x.ravel()\n",
    "x"
   ]
  },
  {
   "cell_type": "code",
   "execution_count": 62,
   "id": "c1b91a05-4837-4fd5-9040-eba9d5a40385",
   "metadata": {},
   "outputs": [
    {
     "data": {
      "text/plain": [
       "array([1, 2])"
      ]
     },
     "execution_count": 62,
     "metadata": {},
     "output_type": "execute_result"
    }
   ],
   "source": [
    "x.ravel()"
   ]
  },
  {
   "cell_type": "code",
   "execution_count": 54,
   "id": "1412c231-7904-42d4-a3b3-f6a16c09477d",
   "metadata": {},
   "outputs": [
    {
     "data": {
      "text/plain": [
       "1"
      ]
     },
     "execution_count": 54,
     "metadata": {},
     "output_type": "execute_result"
    }
   ],
   "source": [
    "a"
   ]
  },
  {
   "cell_type": "code",
   "execution_count": null,
   "id": "6c21e19c-f6b6-4a7f-94dc-ba2576a39a94",
   "metadata": {},
   "outputs": [],
   "source": []
  }
 ],
 "metadata": {
  "kernelspec": {
   "display_name": "Python 3 (ipykernel)",
   "language": "python",
   "name": "python3"
  },
  "language_info": {
   "codemirror_mode": {
    "name": "ipython",
    "version": 3
   },
   "file_extension": ".py",
   "mimetype": "text/x-python",
   "name": "python",
   "nbconvert_exporter": "python",
   "pygments_lexer": "ipython3",
   "version": "3.9.1"
  }
 },
 "nbformat": 4,
 "nbformat_minor": 5
}
